{
 "cells": [
  {
   "cell_type": "code",
   "execution_count": null,
   "metadata": {},
   "outputs": [
    {
     "name": "stdout",
     "output_type": "stream",
     "text": [
      "3\n",
      "3\n",
      "1 2\n"
     ]
    }
   ],
   "source": [
    "a = int(input())\n",
    " \n",
    "zero = [1,0,1]\n",
    "one = [0,1,1]\n",
    " \n",
    "def fibonacci(num):\n",
    "    length = len(zero)\n",
    "    if length <= num:\n",
    "        for i in range(length,num+1):\n",
    "            zero.append(zero[i-1]+zero[i-2])\n",
    "            one.append(one[i-1]+one[i-2])\n",
    "    print(\"%d %d\"%(zero[num],one[num]))\n",
    " \n",
    "for i in range(a):\n",
    "    k = int(input())\n",
    "    fibonacci(k)\n"
   ]
  },
  {
   "cell_type": "code",
   "execution_count": null,
   "metadata": {},
   "outputs": [],
   "source": []
  }
 ],
 "metadata": {
  "kernelspec": {
   "display_name": "Python 3",
   "language": "python",
   "name": "python3"
  },
  "language_info": {
   "codemirror_mode": {
    "name": "ipython",
    "version": 3
   },
   "file_extension": ".py",
   "mimetype": "text/x-python",
   "name": "python",
   "nbconvert_exporter": "python",
   "pygments_lexer": "ipython3",
   "version": "3.6.5"
  }
 },
 "nbformat": 4,
 "nbformat_minor": 2
}
