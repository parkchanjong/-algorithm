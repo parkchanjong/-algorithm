{
 "cells": [
  {
   "cell_type": "code",
   "execution_count": 2,
   "metadata": {},
   "outputs": [
    {
     "name": "stdout",
     "output_type": "stream",
     "text": [
      "3\n",
      "0 0 13 40 0 37\n",
      "2\n",
      "0 0 3 0 7 4\n",
      "1\n",
      "1 1 1 1 1 5\n",
      "0\n"
     ]
    }
   ],
   "source": [
    "import math\n",
    "#원중심이 같은떄-반지름12,접할때, 2번 만날떄 ,아예안만날때 \n",
    "\n",
    "\n",
    "def turret(n):\n",
    "    x1, y1, r1, x2, y2, r2 =  map(int,N.split(' '))\n",
    "\n",
    "    d= math.sqrt((x1-x2)**2 + (y1-y2)**2)\n",
    "\n",
    "    r_sum=r1+r2\n",
    "\n",
    "    if d==0:#원중심 같을때\n",
    "        if r1==r2:\n",
    "            print(-1)\n",
    "        else:\n",
    "            print(0)\n",
    "    else:\n",
    "        if d>r_sum:#멀리 있을때\n",
    "            print(0)\n",
    "        elif d==r_sum:#접함\n",
    "            print(1)\n",
    "        elif d<r_sum:#포함될떄\n",
    "            if (d+min(r1,r2)) == max(r1,r2):#원안에서 접함\n",
    "                print(1)\n",
    "            elif(d+min(r1,r2)) < max(r1,r2):#원점은 다르지만 포함해서 만나지 않을때\n",
    "                print(0)\n",
    "            else:\n",
    "                print(2)# 안에서 한쪽 나와서 2번만남\n",
    "            \n",
    "            \n",
    "t = int(input())\n",
    "input_data = []\n",
    "\n",
    "for i in range(t):\n",
    "    N = input()\n",
    "    turret(N)       "
   ]
  },
  {
   "cell_type": "code",
   "execution_count": null,
   "metadata": {},
   "outputs": [],
   "source": []
  }
 ],
 "metadata": {
  "kernelspec": {
   "display_name": "Python 3",
   "language": "python",
   "name": "python3"
  },
  "language_info": {
   "codemirror_mode": {
    "name": "ipython",
    "version": 3
   },
   "file_extension": ".py",
   "mimetype": "text/x-python",
   "name": "python",
   "nbconvert_exporter": "python",
   "pygments_lexer": "ipython3",
   "version": "3.6.5"
  }
 },
 "nbformat": 4,
 "nbformat_minor": 2
}
