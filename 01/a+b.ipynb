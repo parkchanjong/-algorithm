{
 "cells": [
  {
   "cell_type": "code",
   "execution_count": 8,
   "metadata": {},
   "outputs": [
    {
     "name": "stdout",
     "output_type": "stream",
     "text": [
      "a:0보다 큰수입력2\n",
      "10본다 작은수 입력3\n",
      "5\n"
     ]
    }
   ],
   "source": [
    "a=int(input(\"a:0보다 큰수입력\"))\n",
    "b=int(input(\"10본다 작은수 입력\"))\n",
    "if a >0 and b <10 :\n",
    "    print(a+b)\n",
    "else:\n",
    "    print(\"다시입력\")"
   ]
  }
 ],
 "metadata": {
  "kernelspec": {
   "display_name": "Python 3",
   "language": "python",
   "name": "python3"
  },
  "language_info": {
   "codemirror_mode": {
    "name": "ipython",
    "version": 3
   },
   "file_extension": ".py",
   "mimetype": "text/x-python",
   "name": "python",
   "nbconvert_exporter": "python",
   "pygments_lexer": "ipython3",
   "version": "3.6.5"
  }
 },
 "nbformat": 4,
 "nbformat_minor": 2
}
